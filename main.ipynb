{
 "cells": [
  {
   "cell_type": "code",
   "execution_count": 1,
   "metadata": {},
   "outputs": [
    {
     "name": "stderr",
     "output_type": "stream",
     "text": [
      "WARNING: An illegal reflective access operation has occurred\n",
      "WARNING: Illegal reflective access by org.apache.hadoop.security.authentication.util.KerberosUtil (file:/Users/staceyli/opt/anaconda3/envs/big_data/lib/python3.7/site-packages/pyspark/jars/hadoop-auth-2.7.3.jar) to method sun.security.krb5.Config.getInstance()\n",
      "WARNING: Please consider reporting this to the maintainers of org.apache.hadoop.security.authentication.util.KerberosUtil\n",
      "WARNING: Use --illegal-access=warn to enable warnings of further illegal reflective access operations\n",
      "WARNING: All illegal access operations will be denied in a future release\n"
     ]
    },
    {
     "name": "stdout",
     "output_type": "stream",
     "text": [
      "2021-12-14 01:35:37 WARN  NativeCodeLoader:62 - Unable to load native-hadoop library for your platform... using builtin-java classes where applicable\n"
     ]
    },
    {
     "name": "stderr",
     "output_type": "stream",
     "text": [
      "Setting default log level to \"WARN\".\n",
      "To adjust logging level use sc.setLogLevel(newLevel). For SparkR, use setLogLevel(newLevel).\n"
     ]
    }
   ],
   "source": [
    "from pyspark.sql import SparkSession\n",
    "from pyspark.ml.feature import HashingTF, IDF\n",
    "from pyspark.sql.functions import pandas_udf, split, substring_index, element_at\n",
    "from pyspark.sql.types import *\n",
    "import pyspark.sql\n",
    "\n",
    "# create a spark session\n",
    "spark = SparkSession.builder.getOrCreate()"
   ]
  },
  {
   "cell_type": "code",
   "execution_count": 7,
   "metadata": {},
   "outputs": [],
   "source": [
    "# load in data\n",
    "df = spark.read.schema(\n",
    "    StructType(\n",
    "        [\n",
    "            StructField('documents', StringType())\n",
    "        ]\n",
    "    )\n",
    " )\\\n",
    ".text(\"project2_data.txt\")\n",
    "# df.show()"
   ]
  },
  {
   "cell_type": "code",
   "execution_count": 8,
   "metadata": {},
   "outputs": [],
   "source": [
    "df1 = df.withColumn('documentID', split(df['documents'], ' ').getItem(0)) \\\n",
    "       .withColumn('document', element_at(split(\"documents\",\"^[^\\s]*\\s\"),-1).cast(\"string\"))\n",
    "# df1.show(truncate=True)"
   ]
  },
  {
   "cell_type": "code",
   "execution_count": 10,
   "metadata": {},
   "outputs": [],
   "source": [
    "from pyspark.ml.feature import Tokenizer\n",
    "tokenizer = Tokenizer(outputCol=\"words\")\n",
    "tokenizer.setInputCol(\"document\")\n",
    "tokenized_df = tokenizer.transform(df1)\n",
    "\n",
    " #tokenized_df.show()"
   ]
  },
  {
   "cell_type": "code",
   "execution_count": 14,
   "metadata": {},
   "outputs": [
    {
     "name": "stdout",
     "output_type": "stream",
     "text": [
      "+--------------------+----------+--------------------+--------------------+--------------------+\n",
      "|           documents|documentID|            document|               words|                  tf|\n",
      "+--------------------+----------+--------------------+--------------------+--------------------+\n",
      "|100152 purine nuc...|    100152|purine nucleoside...|[purine, nucleosi...|(100000,[618,1583...|\n",
      "|10021296 protein ...|  10021296|protein kinase c ...|[protein, kinase,...|(100000,[92,615,4...|\n",
      "|10021337 drosophi...|  10021337|drosophila kismet...|[drosophila, kism...|(100000,[92,539,1...|\n",
      "|10021345 dis_card...|  10021345|dis_cardiac_dis h...|[dis_cardiac_dis,...|(100000,[671,1525...|\n",
      "|10021362 sonic he...|  10021362|sonic hedgehog si...|[sonic, hedgehog,...|(100000,[92,539,1...|\n",
      "|10021364 drosophi...|  10021364|drosophila tnf-re...|[drosophila, tnf-...|(100000,[92,1028,...|\n",
      "|10021369 identifi...|  10021369|identification ap...|[identification, ...|(100000,[92,539,6...|\n",
      "|10021376 intracel...|  10021376|intracellular sig...|[intracellular, s...|(100000,[692,4022...|\n",
      "|10021381 cell-med...|  10021381|cell-mediated imm...|[cell-mediated, i...|(100000,[92,6842,...|\n",
      "|10021386 transfor...|  10021386|transformation me...|[transformation, ...|(100000,[293,3029...|\n",
      "|10021459 interleu...|  10021459|interleukin-8 rec...|[interleukin-8, r...|(100000,[115,349,...|\n",
      "|10021466 chlamydi...|  10021466|chlamydial human ...|[chlamydial, huma...|(100000,[92,277,1...|\n",
      "|10021470 effect g...|  10021470|effect gene_growt...|[effect, gene_gro...|(100000,[618,1583...|\n",
      "|10021471 hematopo...|  10021471|hematopoietic ste...|[hematopoietic, s...|(100000,[1800,198...|\n",
      "|10021492 control ...|  10021492|control medicine ...|[control, medicin...|(100000,[1639,448...|\n",
      "|10021694 latent d...|  10021694|latent dis_coelia...|[latent, dis_coel...|(100000,[2529,884...|\n",
      "|10021708 hepatic ...|  10021708|hepatic resection...|[hepatic, resecti...|(100000,[2113,228...|\n",
      "|10021709 the use ...|  10021709|the use early ent...|[the, use, early,...|(100000,[1702,252...|\n",
      "|10021776 selected...|  10021776|selected problem ...|[selected, proble...|(100000,[35,115,2...|\n",
      "|100218 alpha-lact...|    100218|alpha-lactalbumin...|[alpha-lactalbumi...|(100000,[2529,448...|\n",
      "+--------------------+----------+--------------------+--------------------+--------------------+\n",
      "only showing top 20 rows\n",
      "\n"
     ]
    }
   ],
   "source": [
    "hashingTF = HashingTF(inputCol=\"words\", outputCol=\"tf\")\n",
    "hashingTF.setNumFeatures(100000)\n",
    "tf = hashingTF.transform(tokenized_df)\n",
    "tf.show()"
   ]
  },
  {
   "cell_type": "code",
   "execution_count": 15,
   "metadata": {},
   "outputs": [
    {
     "name": "stderr",
     "output_type": "stream",
     "text": []
    }
   ],
   "source": [
    "idf = IDF(minDocFreq=1)\n",
    "idf.setInputCol(\"tf\")\n",
    "idf.setOutputCol(\"idf\")\n",
    "model = idf.fit(tf)"
   ]
  },
  {
   "cell_type": "code",
   "execution_count": 16,
   "metadata": {},
   "outputs": [
    {
     "name": "stdout",
     "output_type": "stream",
     "text": [
      "+--------------------+----------+--------------------+--------------------+--------------------+--------------------+\n",
      "|           documents|documentID|            document|               words|                  tf|                 idf|\n",
      "+--------------------+----------+--------------------+--------------------+--------------------+--------------------+\n",
      "|100152 purine nuc...|    100152|purine nucleoside...|[purine, nucleosi...|(100000,[618,1583...|(100000,[618,1583...|\n",
      "|10021296 protein ...|  10021296|protein kinase c ...|[protein, kinase,...|(100000,[92,615,4...|(100000,[92,615,4...|\n",
      "|10021337 drosophi...|  10021337|drosophila kismet...|[drosophila, kism...|(100000,[92,539,1...|(100000,[92,539,1...|\n",
      "|10021345 dis_card...|  10021345|dis_cardiac_dis h...|[dis_cardiac_dis,...|(100000,[671,1525...|(100000,[671,1525...|\n",
      "|10021362 sonic he...|  10021362|sonic hedgehog si...|[sonic, hedgehog,...|(100000,[92,539,1...|(100000,[92,539,1...|\n",
      "|10021364 drosophi...|  10021364|drosophila tnf-re...|[drosophila, tnf-...|(100000,[92,1028,...|(100000,[92,1028,...|\n",
      "|10021369 identifi...|  10021369|identification ap...|[identification, ...|(100000,[92,539,6...|(100000,[92,539,6...|\n",
      "|10021376 intracel...|  10021376|intracellular sig...|[intracellular, s...|(100000,[692,4022...|(100000,[692,4022...|\n",
      "|10021381 cell-med...|  10021381|cell-mediated imm...|[cell-mediated, i...|(100000,[92,6842,...|(100000,[92,6842,...|\n",
      "|10021386 transfor...|  10021386|transformation me...|[transformation, ...|(100000,[293,3029...|(100000,[293,3029...|\n",
      "|10021459 interleu...|  10021459|interleukin-8 rec...|[interleukin-8, r...|(100000,[115,349,...|(100000,[115,349,...|\n",
      "|10021466 chlamydi...|  10021466|chlamydial human ...|[chlamydial, huma...|(100000,[92,277,1...|(100000,[92,277,1...|\n",
      "|10021470 effect g...|  10021470|effect gene_growt...|[effect, gene_gro...|(100000,[618,1583...|(100000,[618,1583...|\n",
      "|10021471 hematopo...|  10021471|hematopoietic ste...|[hematopoietic, s...|(100000,[1800,198...|(100000,[1800,198...|\n",
      "|10021492 control ...|  10021492|control medicine ...|[control, medicin...|(100000,[1639,448...|(100000,[1639,448...|\n",
      "|10021694 latent d...|  10021694|latent dis_coelia...|[latent, dis_coel...|(100000,[2529,884...|(100000,[2529,884...|\n",
      "|10021708 hepatic ...|  10021708|hepatic resection...|[hepatic, resecti...|(100000,[2113,228...|(100000,[2113,228...|\n",
      "|10021709 the use ...|  10021709|the use early ent...|[the, use, early,...|(100000,[1702,252...|(100000,[1702,252...|\n",
      "|10021776 selected...|  10021776|selected problem ...|[selected, proble...|(100000,[35,115,2...|(100000,[35,115,2...|\n",
      "|100218 alpha-lact...|    100218|alpha-lactalbumin...|[alpha-lactalbumi...|(100000,[2529,448...|(100000,[2529,448...|\n",
      "+--------------------+----------+--------------------+--------------------+--------------------+--------------------+\n",
      "only showing top 20 rows\n",
      "\n"
     ]
    }
   ],
   "source": [
    "tfidf = model.transform(tf)\n",
    "\n",
    "tfidf.show()"
   ]
  },
  {
   "cell_type": "code",
   "execution_count": 18,
   "metadata": {},
   "outputs": [
    {
     "name": "stdout",
     "output_type": "stream",
     "text": [
      "('100152', ['purine', 'nucleoside', 'gene_nucleoside_phosphorylase_gene', 'dis_chronic_lymphocytic_leukemia_dis', 'dis_cll_dis', '', 'purine', 'nucleoside', 'gene_nucleoside_phosphorylase_gene', 'gene_pnp_gene', 'enzyme', 'schematic', 'next', 'adenosine', 'deaminase', 'purine', 'salvage', 'pathway', 'demonstrate', 'cytochemical', 'peripheral', 'blood', 'lymphocyte', 'healthy', 'subject', 'dis_chronic_lymphocytic_leukemia_dis', 'dis_cll_dis', 'patient', '', 'enzyme', 'activity', 'confine', 'cytosol', '', 'healthy', 'subject', 'majority', 'lymphocyte', 'strong', 'reactive', 'gene_pnp_gene', 'whereas', 'rest', 'devoid', 'cytochemical', 'demonstrable', 'activity', '', 'percentage', 'pnp-positive', 'cell', 'large', 'correspond', 'number', 'e', 'rosette-forming', 'cell', 'inverse', 'proportional', 'number', 'ig-bearing', 'cell', '', 'six', 'seven', 'dis_cll_dis', 'patient', 'study', 'minor', 'percentage', 'lymphocyte', 'show', 'strong', 'gene_pnp_gene', 'activity', 'whereas', 'large', 'majority', '88%--98%', 'possess', 'trace', 'activity', '', 'such', 'patient', 'high', 'number', 'ig-bearing', 'cell', 'low', 'number', 'e', 'rosette-forming', 'cell', '', 'different', 'pattern', 'marker', 'find', 'lymphocyte', 'seventh', 'dis_cll_dis', 'patient', '66%', 'strong', 'reactive', 'gene_pnp_gene', 'important', 'number', 'form', 'e', 'rosettes', 'minor', 'percentage', 'ig', 'bearing', '', 'datum', 'indicate', 'gene_pnp_gene', 'useful', 'nonmembrane', 'marker', 'differentiation', 'b', 't', 'cell', 'origin', 'dis_cll_dis', 'deserve', 'study', 'dis_lymphoproliferative_disorder_dis'], SparseVector(100000, {618: 1.0, 1583: 5.0, 2337: 1.0, 2529: 4.0, 4022: 1.0, 4316: 1.0, 6485: 1.0, 8273: 1.0, 8849: 2.0, 11101: 1.0, 12782: 2.0, 15384: 2.0, 15564: 1.0, 15690: 1.0, 16313: 2.0, 17218: 5.0, 17345: 1.0, 17405: 2.0, 18768: 1.0, 20828: 1.0, 23042: 1.0, 26783: 1.0, 26873: 1.0, 29244: 2.0, 30810: 1.0, 31272: 1.0, 31361: 1.0, 35399: 2.0, 35621: 1.0, 35876: 1.0, 36672: 1.0, 38461: 1.0, 41089: 1.0, 46147: 3.0, 48070: 1.0, 48110: 4.0, 48538: 1.0, 49343: 2.0, 50521: 1.0, 51788: 2.0, 51878: 3.0, 53080: 1.0, 54935: 3.0, 55805: 2.0, 57746: 1.0, 58228: 2.0, 59013: 1.0, 62708: 1.0, 63531: 2.0, 66632: 5.0, 67272: 1.0, 69920: 1.0, 71094: 4.0, 71125: 2.0, 72116: 1.0, 72716: 1.0, 74823: 1.0, 75156: 1.0, 76631: 1.0, 76888: 1.0, 80870: 2.0, 83210: 6.0, 86312: 3.0, 87777: 1.0, 91422: 1.0, 92537: 1.0, 92818: 1.0, 93209: 2.0, 93372: 8.0, 94019: 1.0, 94615: 2.0, 97510: 1.0, 98834: 1.0, 99380: 1.0, 99769: 1.0}), SparseVector(100000, {618: 1.6976, 1583: 11.5029, 2337: 4.8821, 2529: 3.4024, 4022: 2.3179, 4316: 5.0768, 6485: 1.8391, 8273: 4.9446, 8849: 1.2861, 11101: 5.7056, 12782: 4.8984, 15384: 13.01, 15564: 5.4631, 15690: 1.887, 16313: 4.8447, 17218: 40.3297, 17345: 6.8021, 17405: 5.4753, 18768: 2.0584, 20828: 7.7877, 23042: 3.547, 26783: 3.5371, 26873: 1.7996, 29244: 7.518, 30810: 9.2835, 31272: 3.0582, 31361: 3.005, 35399: 11.9668, 35621: 2.442, 35876: 7.0185, 36672: 6.3564, 38461: 3.1676, 41089: 1.9647, 46147: 11.2645, 48070: 3.0648, 48110: 6.28, 48538: 4.132, 49343: 14.4588, 50521: 6.3237, 51788: 4.7091, 51878: 9.06, 53080: 8.8745, 54935: 18.2902, 55805: 4.7123, 57746: 5.9653, 58228: 8.0615, 59013: 3.0863, 62708: 4.438, 63531: 17.4268, 66632: 30.9409, 67272: 2.0171, 69920: 5.674, 71094: 13.9164, 71125: 8.9037, 72116: 1.1544, 72716: 5.3715, 74823: 5.5967, 75156: 5.8594, 76631: 6.2608, 76888: 5.2959, 80870: 14.8413, 83210: 5.3847, 86312: 8.0048, 87777: 2.9953, 91422: 2.7636, 92537: 2.0628, 92818: 6.5162, 93209: 20.1994, 93372: 0.0001, 94019: 1.0285, 94615: 5.5124, 97510: 1.4916, 98834: 6.9851, 99380: 4.3883, 99769: 5.9412}), 509.13004544571254)\n",
      "('10021296', ['protein', 'kinase', 'c', 'isoform', 'expression', 'activity', 'alter', 'paclitaxel', 'resistance', 'vitro', '', 'aim', 'study', 'assess', 'relationship', 'protein', 'kinase', 'c', 'dis_pkc_dis', 'isoform', 'expression', 'functional', 'activity', 'development', 'multidrug', 'resistance', 'dis_gynecologic_malignancy_dis', '', 'paclitaxel-resistant', 'subclone', 't30', 't30-res', 'mes-sa', 'human', 'dis_uterine_sarcoma_dis', 'cell', 'line', 'select', 'through', 'exposure', 'paclitaxel', 'vitro', '', 'indices', 'relative', 'drug', 'resistance', 'determine', 'mtt', '3-[4,5-dimethyl-2-thiazolyl]-2', '5-diphenyl-2h-tetrazolium', 'bromide', 'assay', '', 'differences', 'expression', 'pattern', 'dis_pkc_dis', 'isoform', 'assess', 'western', 'blot', 'cell', 'lysate', '', 'finally', 'influence', 'dis_pkc_dis', 'activity', 'i', 'e', '', 'translocation', 'plasma', 'membrane', 'confirm', 'western', 'blot', 'plasma', 'membrane', 'bind', 'protein', 'resistance', 'paclitaxel', 'examine', 'mtt', 'assay', 'cell', 'preincubate', 'pma', '', 'index', 'relative', 'paclitaxel', 'resistance', 'mes-sa', 'mes-sa-t30', 'mes-sa-t30-res', '1-', '5-', '11-fold', 'respective', '', 'five', 'alpha', 'gamma', 'iota', 'lambda', 'mu', '11', 'know', 'dis_pkc_dis', 'isoform', 'detect', 'cell', 'lysate', '', 'pkc-alpha', 'gene_pkc_gamma_gene', 'expression', 'increase', 'increase', 'index', 'paclitaxel', 'resistance', '', 'interestingly', 'pma', 'induction', 'dis_pkc_dis', 'activity', 'reverse', 'resistance', 'paclitaxel', 'cell', 'line', '2-', '3-fold', 'reversal', 'drug', 'resistance', 'associate', 'time-dependent', 'translocation', 'pkc-alpha', 'gene_pkc_gamma_gene', 'plasma', 'membrane', 'compartment', '', 'increased', 'expression', 'pkc-alpha', 'gene_pkc_gamma_gene', 'isoform', 'correlate', 'increase', 'level', 'paclitaxel', 'resistance', 'mes-sa', 'cell', 'vitro', 'experimental', 'model', '', 'increase', 'functional', 'activity', 'dis_pkc_dis', 'isoform', 'lead', 'reversal', 'paclitaxel', 'resistance', '', 'therefore', 'dis_pkc_dis', 'activate', 'mechanism', 'normal', 'present', 'dis_primary_tumor_dis', 'cell', 'compromise', 'drug-resistant', 'clone'], SparseVector(100000, {92: 3.0, 615: 2.0, 4543: 1.0, 4616: 2.0, 5356: 1.0, 6236: 1.0, 6333: 1.0, 6798: 1.0, 8849: 1.0, 9314: 1.0, 9601: 1.0, 9900: 3.0, 10406: 2.0, 10711: 1.0, 11785: 1.0, 12327: 3.0, 12788: 1.0, 13722: 2.0, 13857: 1.0, 14501: 2.0, 14804: 5.0, 14811: 1.0, 15141: 1.0, 17252: 2.0, 18128: 3.0, 18711: 1.0, 20867: 1.0, 21483: 1.0, 24539: 1.0, 26150: 1.0, 26506: 1.0, 27649: 1.0, 28167: 2.0, 29343: 2.0, 30328: 1.0, 34756: 1.0, 36576: 8.0, 37963: 4.0, 39292: 1.0, 39445: 1.0, 40875: 2.0, 41941: 2.0, 42128: 3.0, 45211: 1.0, 45809: 1.0, 47779: 1.0, 47860: 2.0, 48110: 5.0, 48721: 1.0, 50128: 1.0, 50315: 1.0, 51878: 1.0, 51916: 1.0, 52437: 1.0, 54187: 1.0, 55329: 1.0, 55511: 1.0, 57356: 1.0, 57726: 1.0, 59376: 1.0, 60148: 2.0, 61182: 2.0, 64853: 1.0, 65446: 1.0, 65697: 10.0, 65943: 1.0, 69263: 1.0, 70217: 1.0, 70627: 1.0, 72616: 1.0, 74260: 1.0, 74892: 1.0, 75780: 1.0, 75974: 1.0, 77397: 6.0, 78150: 2.0, 78352: 1.0, 80307: 2.0, 80439: 1.0, 80463: 1.0, 80621: 2.0, 81845: 1.0, 83210: 7.0, 84089: 1.0, 86458: 1.0, 86658: 1.0, 89490: 1.0, 90273: 1.0, 91411: 1.0, 91422: 1.0, 92013: 3.0, 92735: 1.0, 93149: 1.0, 93372: 13.0, 94895: 1.0, 96219: 7.0, 96331: 1.0, 97050: 1.0, 98050: 1.0, 98183: 3.0, 98945: 1.0}), SparseVector(100000, {92: 3.8482, 615: 5.1878, 4543: 2.2894, 4616: 11.1502, 5356: 2.3364, 6236: 1.168, 6333: 6.2265, 6798: 7.1354, 8849: 0.643, 9314: 3.2641, 9601: 8.328, 9900: 8.8627, 10406: 12.0084, 10711: 3.7509, 11785: 5.4313, 12327: 7.2044, 12788: 3.3232, 13722: 5.5703, 13857: 2.1242, 14501: 4.5175, 14804: 6.728, 14811: 2.8193, 15141: 3.2949, 17252: 5.5673, 18128: 19.8886, 18711: 2.6565, 20867: 6.3926, 21483: 3.6981, 24539: 3.728, 26150: 2.6631, 26506: 8.9546, 27649: 1.779, 28167: 7.7963, 29343: 4.7926, 30328: 8.6783, 34756: 6.8462, 36576: 49.5054, 37963: 4.2769, 39292: 2.0969, 39445: 9.5747, 40875: 9.8204, 41941: 6.6331, 42128: 7.3331, 45211: 6.5024, 45809: 1.6532, 47779: 2.4258, 47860: 5.45, 48110: 7.85, 48721: 3.3696, 50128: 10.0532, 50315: 2.2218, 51878: 3.02, 51916: 5.4754, 52437: 6.3418, 54187: 3.1398, 55329: 3.1348, 55511: 4.5987, 57356: 2.1078, 57726: 10.282, 59376: 8.147, 60148: 6.7064, 61182: 4.7265, 64853: 6.7778, 65446: 1.7811, 65697: 32.7284, 65943: 2.6387, 69263: 8.9546, 70217: 4.7899, 70627: 8.0292, 72616: 2.4049, 74260: 2.7996, 74892: 2.9773, 75780: 7.5477, 75974: 2.7316, 77397: 23.8891, 78150: 5.4923, 78352: 7.9348, 80307: 5.7765, 80439: 6.1178, 80463: 5.0718, 80621: 11.2361, 81845: 5.7765, 83210: 6.2822, 84089: 4.8351, 86458: 2.9715, 86658: 2.7512, 89490: 4.0552, 90273: 3.3177, 91411: 3.4261, 91422: 2.7636, 92013: 25.3313, 92735: 8.4714, 93149: 9.2223, 93372: 0.0002, 94895: 2.4733, 96219: 36.103, 96331: 2.5469, 97050: 1.4348, 98050: 1.4222, 98183: 24.7169, 98945: 1.9226}), 686.6029567299269)\n",
      "('10021337', ['drosophila', 'kismet', 'gene', 'relate', 'chromatin-remodeling', 'factor', 'require', 'both', 'segmentation', 'segment', 'identity', '', 'drosophila', 'kismet', 'gene', 'identify', 'screen', 'dominant', 'suppressor', 'gene_polycomb_gene', 'repressor', 'homeotic', 'gene', '', 'here', 'show', 'kismet', 'mutation', 'suppress', 'gene_polycomb_gene', 'mutant', 'phenotype', 'block', 'ectopic', 'transcription', 'homeotic', 'gene', '', 'loss', 'zygotic', 'kismet', 'function', 'cause', 'homeotic', 'transformation', 'similar', 'those', 'associate', 'loss-of-function', 'mutation', 'homeotic', 'gene', 'sex', 'comb', 'reduce', 'gene_abdominal_b_gene', 'kismet', 'require', 'proper', 'larval', 'body', 'segmentation', '', 'loss', 'maternal', 'kismet', 'function', 'cause', 'segmentation', 'defect', 'similar', 'those', 'cause', 'mutation', 'pair-rule', 'gene', 'even-skipped', '', 'kismet', 'gene', 'encode', 'several', 'large', 'nuclear', 'protein', 'ubiquitous', 'express', 'along', 'dis_anterior_posterior_axis_dis', '', 'kismet', 'protein', 'contain', 'domain', 'conserve', 'gene_trithorax_group_gene', 'protein', 'gene_brahma_gene', 'related', 'chromatin-remodeling', 'factor', 'provide', 'further', 'evidence', 'alteration', 'chromatin', 'structure', 'require', 'maintain', 'spatial', 'restrict', 'pattern', 'homeotic', 'gene', 'transcription'], SparseVector(100000, {92: 3.0, 539: 1.0, 1921: 1.0, 2260: 1.0, 3466: 1.0, 3872: 1.0, 4142: 1.0, 7663: 1.0, 8030: 3.0, 9288: 1.0, 10173: 1.0, 12782: 1.0, 13134: 1.0, 14390: 2.0, 15315: 1.0, 16785: 3.0, 17687: 1.0, 19150: 1.0, 20068: 1.0, 21139: 1.0, 22054: 1.0, 24199: 1.0, 26313: 2.0, 26541: 1.0, 31353: 5.0, 31537: 1.0, 32410: 1.0, 34547: 1.0, 35936: 1.0, 37046: 2.0, 37075: 1.0, 38568: 1.0, 43184: 1.0, 43276: 1.0, 43481: 1.0, 44827: 1.0, 44863: 1.0, 45329: 2.0, 48860: 8.0, 49392: 1.0, 50527: 1.0, 52887: 1.0, 52953: 1.0, 58670: 1.0, 60841: 1.0, 61135: 1.0, 62301: 1.0, 63967: 1.0, 64289: 1.0, 66502: 1.0, 75247: 1.0, 77318: 1.0, 78499: 1.0, 78586: 3.0, 78780: 1.0, 80885: 2.0, 80958: 8.0, 82856: 3.0, 84435: 1.0, 85688: 1.0, 89910: 2.0, 89975: 1.0, 91422: 1.0, 91893: 1.0, 92600: 2.0, 93372: 6.0, 94019: 1.0, 94523: 1.0, 96660: 1.0, 96949: 2.0, 97050: 1.0, 97511: 1.0, 97543: 2.0}), SparseVector(100000, {92: 3.8482, 539: 3.9411, 1921: 5.2335, 2260: 3.1159, 3466: 3.2865, 3872: 9.4185, 4142: 4.8352, 7663: 4.4391, 8030: 22.449, 9288: 2.1899, 10173: 3.0583, 12782: 2.4492, 13134: 5.7559, 14390: 2.9209, 15315: 4.8122, 16785: 7.1897, 17687: 8.9247, 19150: 4.1388, 20068: 3.8993, 21139: 2.0431, 22054: 2.3105, 24199: 4.6793, 26313: 3.6245, 26541: 8.4761, 31353: 25.5222, 31537: 5.2848, 32410: 4.3179, 34547: 2.4002, 35936: 2.9229, 37046: 5.8942, 37075: 9.2322, 38568: 4.4133, 43184: 5.5451, 43276: 8.2652, 43481: 7.2375, 44827: 3.1353, 44863: 1.3048, 45329: 5.6366, 48860: 11.4357, 49392: 3.1744, 50527: 2.0176, 52887: 2.4777, 52953: 7.0283, 58670: 5.6965, 60841: 2.7648, 61135: 2.4905, 62301: 2.6139, 63967: 1.8706, 64289: 3.0738, 66502: 1.9524, 75247: 3.4815, 77318: 9.8301, 78499: 4.0627, 78586: 7.4767, 78780: 3.6229, 80885: 17.1913, 80958: 75.4453, 82856: 5.8638, 84435: 4.0065, 85688: 4.8719, 89910: 4.4191, 89975: 3.5905, 91422: 2.7636, 91893: 5.1062, 92600: 4.2005, 93372: 0.0001, 94019: 1.0285, 94523: 3.2415, 96660: 4.5248, 96949: 16.2941, 97050: 1.4348, 97511: 3.1878, 97543: 10.1551}), 460.54710164807875)\n",
      "('10021345', ['dis_cardiac_dis', 'homeobox', 'gene', 'csx-nkx2', '5', 'lie', 'genetic', 'upstream', 'multiple', 'gene', 'essential', 'heart', 'development', '', 'csx-nkx2', '5', 'vertebrate', 'homeobox', 'gene', 'sequence', 'homology', 'drosophila', 'tinman', 'require', 'dorsal', 'mesoderm', 'specification', '', 'recently', 'heterozygou', 'mutation', 'gene', 'find', 'cause', 'human', 'congenital', 'dis_heart_disease_dis', 'schott', 'j', '-j', '', 'benson', 'd', 'w', '', 'basson', 'c', 't', '', 'pease', 'w', '', 'silberbach', 'g', 'm', '', 'moak', 'j', 'p', '', 'maron', 'b', 'j', '', 'seidman', 'c', 'e', 'seidman', 'j', 'g', '1998', 'science', '281', '108-111', '', 'investigate', 'function', 'csx-nkx2', '5', 'dis_cardiac_dis', 'extracardiac', 'development', 'vertebrate', 'generate', 'analyse', 'mutant', 'mouse', 'complete', 'null', 'csx-nkx2', '5', '', 'homozygous', 'null', 'embryo', 'show', 'arrest', 'dis_cardiac_development_dis', 'looping', 'poor', 'development', 'blood', 'vessel', '', 'moreover', 'severe', 'defect', 'vascular', 'formation', 'dis_hematopoiesis_dis', 'mutant', 'yolk', 'sac', 'interestingly', 'tunel', 'stain', 'gene_pcna_gene', 'stain', 'show', 'enhance', 'apoptosis', 'reduce', 'cell', 'proliferation', 'mutant', 'myocardium', '', 'situ', 'hybridization', 'study', 'demonstrate', '20', 'candidate', 'gene', 'examined', 'expression', 'anf', 'bnp', 'gene_mlc2v_gene', 'n-myc', 'mef2c', 'hand1', 'msx2', 'disturb', 'mutant', 'heart', '', 'moreover', 'heart', 'adult', 'chimeric', 'mouse', 'generate', 'csx-nkx2', '5', 'null', 'es', 'cell', 'es', 'cell-derived', 'dis_cardiac_myocyte_dis', 'substantial', 'contribution', 'csx', '-nkx2', '5-deficient', 'cell', 'organ', '', 'whole-mount', '&bgr;-gal', 'staining', 'chimeric', 'embryo', 'show', 'many', '20%', 'contribution', 'csx-nkx2', '', '5-deficient', 'cell', 'heart', 'arrest', 'dis_cardiac_development_dis', '', 'result', 'indicate', '1', 'complete', 'null', 'mutation', 'csx-nkx2', '5', 'abolish', 'initial', 'heart', 'looping', '2', 'enhance', 'apoptosis', 'defective', 'cell', 'cycle', 'entry', 'csx-nkx2', '5', 'null', 'dis_cardiac_myocyte_dis', '3', 'csx-nkx2', '5', 'regulate', 'expression', 'several', 'essential', 'transcription', 'factor', 'develop', 'heart', '4', 'csx-nkx2', '5', 'require', 'late', 'differentiation', 'dis_cardiac_myocyte_dis', '5', 'csx-nkx2', '', '5', 'null', 'cell', 'exert', 'dominant', 'interfering', 'effect', 'dis_cardiac_development_dis', '6', 'severe', 'defect', 'yolk', 'sac', 'angiogenesis', 'dis_hematopoiesis_dis', 'csx-nkx2', '5', 'null', 'embryo'], SparseVector(100000, {671: 1.0, 1525: 2.0, 1711: 1.0, 3900: 1.0, 4744: 1.0, 6310: 1.0, 6485: 1.0, 7486: 2.0, 7672: 1.0, 8849: 1.0, 9289: 1.0, 10317: 1.0, 11259: 1.0, 12034: 1.0, 13079: 1.0, 13722: 2.0, 13746: 1.0, 13942: 2.0, 13964: 1.0, 14390: 1.0, 14804: 2.0, 16181: 2.0, 16785: 2.0, 17451: 2.0, 17991: 1.0, 18275: 2.0, 18729: 1.0, 18768: 1.0, 19887: 1.0, 22535: 1.0, 23087: 3.0, 23121: 2.0, 25282: 1.0, 26001: 1.0, 26313: 1.0, 26873: 1.0, 29094: 1.0, 29849: 1.0, 29908: 1.0, 30130: 1.0, 30966: 1.0, 31361: 1.0, 31814: 1.0, 32932: 1.0, 33193: 7.0, 33879: 1.0, 34547: 1.0, 35120: 1.0, 35316: 1.0, 36536: 1.0, 36906: 1.0, 37046: 1.0, 37409: 2.0, 38636: 1.0, 39546: 1.0, 40308: 2.0, 40605: 1.0, 40649: 1.0, 42015: 2.0, 43815: 1.0, 43837: 1.0, 44391: 1.0, 44689: 1.0, 45925: 2.0, 46639: 1.0, 47261: 1.0, 48103: 1.0, 48824: 1.0, 48860: 5.0, 49392: 4.0, 51271: 2.0, 51878: 1.0, 52531: 1.0, 52620: 1.0, 52961: 1.0, 54149: 4.0, 54417: 2.0, 55057: 1.0, 55188: 1.0, 55503: 1.0, 56206: 3.0, 56793: 1.0, 57356: 3.0, 57527: 1.0, 57657: 1.0, 58446: 1.0, 58647: 1.0, 58978: 1.0, 59013: 1.0, 59278: 1.0, 60484: 2.0, 60992: 2.0, 61850: 2.0, 62784: 1.0, 63744: 2.0, 64315: 1.0, 66502: 1.0, 67774: 1.0, 67989: 1.0, 68915: 2.0, 69143: 1.0, 70500: 1.0, 70523: 1.0, 72391: 12.0, 72694: 2.0, 74473: 1.0, 74648: 1.0, 76435: 1.0, 76675: 1.0, 76865: 1.0, 77885: 3.0, 78098: 2.0, 78499: 1.0, 78586: 2.0, 79160: 6.0, 79908: 1.0, 80592: 1.0, 80652: 1.0, 80771: 1.0, 81113: 1.0, 82856: 1.0, 83210: 6.0, 86418: 1.0, 87777: 1.0, 88115: 1.0, 88281: 2.0, 89490: 1.0, 89830: 2.0, 89975: 2.0, 90876: 1.0, 91865: 1.0, 93372: 18.0, 93849: 12.0, 94019: 3.0, 94860: 1.0, 95092: 1.0, 96294: 1.0, 96638: 1.0, 97385: 2.0, 97489: 1.0, 97510: 1.0, 97543: 1.0, 98050: 1.0, 98504: 2.0, 98641: 1.0}), SparseVector(100000, {671: 9.0838, 1525: 4.3991, 1711: 3.9567, 3900: 9.8671, 4744: 1.3057, 6310: 7.2498, 6485: 1.8391, 7486: 13.413, 7672: 8.1504, 8849: 0.643, 9289: 3.9599, 10317: 7.1603, 11259: 4.0425, 12034: 3.9011, 13079: 3.2721, 13722: 5.5703, 13746: 2.7399, 13942: 8.579, 13964: 5.377, 14390: 1.4604, 14804: 2.6912, 16181: 5.1649, 16785: 4.7932, 17451: 10.3949, 17991: 7.1064, 18275: 12.9495, 18729: 7.6188, 18768: 2.0584, 19887: 4.9291, 22535: 6.1138, 23087: 22.0038, 23121: 15.5241, 25282: 2.7907, 26001: 8.4347, 26313: 1.8122, 26873: 1.7996, 29094: 3.8593, 29849: 10.0762, 29908: 3.2494, 30130: 10.0997, 30966: 1.841, 31361: 3.005, 31814: 5.2687, 32932: 5.5541, 33193: 36.4869, 33879: 8.6899, 34547: 2.4002, 35120: 9.7943, 35316: 3.8987, 36536: 8.9932, 36906: 4.3652, 37046: 2.9471, 37409: 18.6531, 38636: 8.0323, 39546: 6.5288, 40308: 13.2238, 40605: 4.6429, 40649: 7.4289, 42015: 6.3798, 43815: 9.0011, 43837: 5.6979, 44391: 4.284, 44689: 7.9266, 45925: 14.5107, 46639: 2.3048, 47261: 4.192, 48103: 3.0196, 48824: 6.6177, 48860: 7.1473, 49392: 12.6977, 51271: 8.2066, 51878: 3.02, 52531: 7.2949, 52620: 4.6834, 52961: 2.4265, 54149: 19.8166, 54417: 6.6785, 55057: 4.7647, 55188: 2.0795, 55503: 1.8061, 56206: 14.2415, 56793: 1.2726, 57356: 6.3235, 57527: 5.1876, 57657: 7.769, 58446: 3.8115, 58647: 8.2729, 58978: 5.1415, 59013: 3.0863, 59278: 3.2981, 60484: 5.9836, 60992: 5.4887, 61850: 10.7162, 62784: 2.5883, 63744: 6.1665, 64315: 6.2255, 66502: 1.9524, 67774: 5.5725, 67989: 1.3828, 68915: 11.7423, 69143: 2.5478, 70500: 3.8824, 70523: 9.4936, 72391: 111.7872, 72694: 17.6535, 74473: 3.8626, 74648: 3.8037, 76435: 8.5851, 76675: 1.9769, 76865: 2.8427, 77885: 27.6966, 78098: 6.9434, 78499: 4.0627, 78586: 4.9844, 79160: 21.6013, 79908: 3.6422, 80592: 2.8648, 80652: 4.4582, 80771: 5.4291, 81113: 3.1469, 82856: 1.9546, 83210: 5.3847, 86418: 1.6112, 87777: 2.9953, 88115: 4.3724, 88281: 13.0403, 89490: 4.0552, 89830: 6.6852, 89975: 7.181, 90876: 2.7959, 91865: 1.0328, 93372: 0.0003, 93849: 21.4119, 94019: 3.0856, 94860: 4.2591, 95092: 1.8312, 96294: 5.9382, 96638: 3.9262, 97385: 10.6094, 97489: 2.9773, 97510: 1.4916, 97543: 5.0776, 98050: 1.4222, 98504: 5.4297, 98641: 8.3736}), 1040.1820632056213)\n",
      "('10021362', ['sonic', 'hedgehog', 'signal', 'patched-smoothened', 'receptor', 'complex', '', 'hedgehog', 'hh', 'family', 'secrete', 'protein', 'involve', 'number', 'developmental', 'process', 'well', 'dis_cancer_dis', '', 'genetic', 'biochemical', 'datum', 'suggest', 'sonic', 'hedgehog', 'gene_shh_gene', 'receptor', 'compose', 'two', 'protein', 'dis_tumor_dis', 'suppressor', 'protein', 'patch', 'ptc', 'seven-transmembrane', 'protein', 'smoothened', 'gene_smo_gene', '', 'using', 'biochemical', 'assay', 'activation', 'transcription', 'factor', 'gene_gli_gene', 'downstream', 'component', 'hh', 'pathway', 'show', 'here', 'gene_smo_gene', 'function', 'signal', 'component', 'gene_shh_gene', 'receptor', 'activity', 'block', 'ptc', '', 'inhibition', 'gene_smo_gene', 'ptc', 'relieve', 'addition', 'gene_shh_gene', '', 'furthermore', 'oncogenic', 'form', 'gene_smo_gene', 'insensitive', 'ptc', 'repression', 'assay', '', 'mapping', 'gene_smo_gene', 'domain', 'require', 'binding', 'ptc', 'signal', 'reveal', 'smo-ptc', 'interaction', 'involve', 'main', 'amino', 'terminus', 'gene_smo_gene', 'third', 'intracellular', 'loop', 'seventh', 'transmembrane', 'domain', 'require', 'signal', '', 'datum', 'demonstrate', 'gene_smo_gene', 'signal', 'component', 'multicomponent', 'hh', 'receptor', 'complex', 'ptc', 'ligand-regulated', 'inhibitor', 'gene_smo_gene', '', 'different', 'domain', 'gene_smo_gene', 'involve', 'ptc', 'binding', 'activation', 'gene_gli_gene', 'reporter', 'construct', '', 'latter', 'require', 'third', 'intracellular', 'loop', 'seventh', 'transmembrane', 'domain', 'gene_smo_gene', 'region', 'involve', 'coupling', 'g', 'protein', '', 'change', 'level', 'cyclic', 'amp', 'calcium', 'associate', 'such', 'pathway', 'detect', 'follow', 'receptor', 'activation'], SparseVector(100000, {92: 5.0, 539: 1.0, 1583: 1.0, 2260: 4.0, 3137: 1.0, 4022: 2.0, 6236: 1.0, 9468: 10.0, 9731: 1.0, 10157: 1.0, 10733: 1.0, 11637: 1.0, 11653: 1.0, 12571: 3.0, 14390: 1.0, 15636: 1.0, 15690: 2.0, 19408: 1.0, 21022: 1.0, 25009: 2.0, 25019: 1.0, 25277: 2.0, 25299: 1.0, 26313: 1.0, 26697: 2.0, 26873: 1.0, 27728: 1.0, 28924: 1.0, 29343: 2.0, 29724: 7.0, 33562: 1.0, 33606: 1.0, 33624: 1.0, 35621: 1.0, 36113: 3.0, 37046: 1.0, 38145: 1.0, 40536: 1.0, 40610: 3.0, 41089: 1.0, 42609: 3.0, 47388: 1.0, 47873: 1.0, 48110: 1.0, 48352: 2.0, 49414: 4.0, 50315: 1.0, 52130: 1.0, 53380: 1.0, 54417: 1.0, 55845: 2.0, 57704: 1.0, 60478: 1.0, 61135: 1.0, 62361: 1.0, 62784: 1.0, 63599: 2.0, 67272: 1.0, 68202: 1.0, 70474: 1.0, 71185: 5.0, 71548: 1.0, 71694: 2.0, 73158: 1.0, 74111: 1.0, 76800: 1.0, 77158: 1.0, 78586: 3.0, 82497: 1.0, 83311: 2.0, 85889: 1.0, 86503: 1.0, 87002: 1.0, 87200: 1.0, 87852: 1.0, 88337: 2.0, 91139: 3.0, 92456: 1.0, 93372: 10.0, 94019: 1.0, 94609: 1.0, 94721: 5.0, 97050: 1.0, 97511: 1.0, 98359: 1.0, 98834: 2.0, 99264: 1.0, 99632: 1.0}), SparseVector(100000, {92: 6.4136, 539: 3.9411, 1583: 2.3006, 2260: 12.4635, 3137: 5.7415, 4022: 4.6358, 6236: 1.168, 9468: 77.7128, 9731: 4.9796, 10157: 1.8594, 10733: 3.8561, 11637: 2.958, 11653: 2.2323, 12571: 18.714, 14390: 1.4604, 15636: 4.0043, 15690: 3.774, 19408: 1.5489, 21022: 2.61, 25009: 5.2993, 25019: 4.8153, 25277: 17.3452, 25299: 10.1485, 26313: 1.8122, 26697: 6.7783, 26873: 1.7996, 27728: 2.2453, 28924: 4.0965, 29343: 4.7926, 29724: 56.5715, 33562: 2.723, 33606: 4.4426, 33624: 3.1039, 35621: 2.442, 36113: 21.7828, 37046: 2.9471, 38145: 8.0505, 40536: 2.133, 40610: 20.965, 41089: 1.9647, 42609: 8.8393, 47388: 6.0331, 47873: 2.6056, 48110: 1.57, 48352: 7.0252, 49414: 8.0275, 50315: 2.2218, 52130: 5.5725, 53380: 8.9776, 54417: 3.3393, 55845: 14.0087, 57704: 2.5603, 60478: 4.4402, 61135: 2.4905, 62361: 2.009, 62784: 2.5883, 63599: 9.6792, 67272: 2.0171, 68202: 10.1998, 70474: 4.1733, 71185: 12.1969, 71548: 8.2922, 71694: 8.3373, 73158: 1.9289, 74111: 4.017, 76800: 2.4227, 77158: 2.3607, 78586: 7.4767, 82497: 5.3804, 83311: 7.9938, 85889: 6.2355, 86503: 5.2405, 87002: 5.8495, 87200: 2.7431, 87852: 4.7591, 88337: 5.0936, 91139: 6.5573, 92456: 4.4875, 93372: 0.0001, 94019: 1.0285, 94609: 8.1955, 94721: 9.6505, 97050: 1.4348, 97511: 3.1878, 98359: 4.533, 98834: 13.9703, 99264: 2.4895, 99632: 1.252}), 604.1260269410725)\n",
      "('10021364', ['drosophila', 'tnf-receptor-associated', 'factor', 'traf', 'bind', 'ste20', 'kinase', 'misshapen', 'activate', 'jun', 'kinase', '', 'two', 'family', 'protein', 'kinase', 'close', 'relate', 'ste20', 'kinase', 'domain', 'identify', '-', 'p21-activated', 'protein', 'kinase', 'pak', 'sps1', 'family', '1-3', '', 'contrast', 'pak', 'family', 'member', 'sps1', 'family', 'member', 'bind', 'activate', 'gtp-bound', 'p21rac', 'cdc42', '', 'recent', 'place', 'member', 'sps1', 'family', 'call', 'misshapen', 'gene_msn_gene', 'genetic', 'upstream', 'c-jun', 'amino-terminal', 'jnk', 'mitogen-activated', 'protein', 'dis_map_dis', 'kinase', 'module', 'drosophila', '4', '', 'failure', 'activate', 'jnk', 'drosophila', 'lead', 'dis_embryonic_lethality_dis', 'due', 'failure', 'embryo', 'stimulate', 'dorsal', 'closure', '5-8', '', 'gene_msn_gene', 'probable', 'function', 'dis_map_dis', 'kinase', 'kinase', 'kinase', 'kinase', 'drosophila', 'activate', 'jnk', 'pathway', 'via', 'undefined', 'dis_map_dis', 'kinase', 'kinase', 'kinase', '', 'identify', 'drosophila', 'tnf-receptor-associated', 'factor', 'gene_dtraf1_gene', 'screening', 'msn-interacting', 'protein', 'use', 'yeast', 'two-hybrid', 'system', '', 'contrast', 'mammalian', 'trafs', 'show', 'activate', 'jnk', 'gene_dtraf1_gene', 'lack', 'amino-terminal', \"'ring-finger'\", 'domain', 'overexpression', 'truncate', 'gene_dtraf1_gene', 'consist', 'traf', 'domain', 'activate', 'jnk', '', 'identify', 'another', 'dtraf', 'gene_dtraf2_gene', 'contain', 'gene_amino_terminal_ring_finger_domain_gene', '', 'gene_msn_gene', 'specific', 'bind', 'traf', 'domain', 'gene_dtraf1_gene', 'gene_dtraf2_gene', '', 'drosophila', 'gene_dtraf1_gene', 'thus', 'good', 'candidate', 'upstream', 'molecule', 'regulate', 'jnk', 'pathway', 'interacting', 'activating', 'gene_msn_gene', 'consistent', 'idea', 'expression', 'dominant-negative', 'gene_msn_gene', 'mutant', 'protein', 'block', 'activation', 'jnk', 'gene_dtraf1_gene', '', 'furthermore', 'coexpression', 'gene_msn_gene', 'gene_dtraf1_gene', 'lead', 'synergistic', 'activation', 'jnk', '', 'extend', 'observation', 'mammalian', 'homolog', 'gene_msn_gene', 'gene_nck_interacting_kinase_gene', 'nik', 'suggest', 'trafs', 'play', 'critical', 'role', 'regulate', 'ste20', 'kinase', 'mammal'], SparseVector(100000, {92: 5.0, 1028: 1.0, 1792: 1.0, 2260: 4.0, 3148: 1.0, 3639: 1.0, 4022: 2.0, 4489: 1.0, 4494: 1.0, 5356: 2.0, 5499: 1.0, 5684: 1.0, 6842: 1.0, 8395: 2.0, 9540: 1.0, 12646: 2.0, 14390: 2.0, 14804: 1.0, 16470: 1.0, 16677: 7.0, 18711: 6.0, 19408: 1.0, 21134: 1.0, 21181: 3.0, 21299: 1.0, 23779: 1.0, 24392: 1.0, 24745: 1.0, 25015: 1.0, 26313: 1.0, 29735: 1.0, 30966: 1.0, 33562: 1.0, 35146: 1.0, 35788: 1.0, 39064: 1.0, 40296: 1.0, 41670: 1.0, 41880: 2.0, 43350: 1.0, 44554: 1.0, 44954: 1.0, 46834: 1.0, 47342: 7.0, 47873: 5.0, 49392: 1.0, 50163: 3.0, 52548: 1.0, 52620: 2.0, 52887: 1.0, 54187: 3.0, 54609: 2.0, 54911: 1.0, 54922: 1.0, 56186: 1.0, 56206: 1.0, 56693: 1.0, 57527: 1.0, 57833: 3.0, 62301: 1.0, 62536: 3.0, 62740: 1.0, 62784: 1.0, 63967: 3.0, 64818: 2.0, 66461: 1.0, 67336: 1.0, 67566: 2.0, 68938: 1.0, 69143: 2.0, 69887: 2.0, 70103: 2.0, 70787: 1.0, 71865: 3.0, 72059: 1.0, 73764: 1.0, 74333: 1.0, 74595: 1.0, 74645: 1.0, 75127: 1.0, 75409: 1.0, 76338: 1.0, 78150: 14.0, 78191: 1.0, 79908: 1.0, 79960: 1.0, 83609: 1.0, 85279: 1.0, 86168: 1.0, 86756: 1.0, 87600: 1.0, 90697: 1.0, 91139: 2.0, 92173: 1.0, 93372: 12.0, 94019: 1.0, 95420: 1.0, 95958: 1.0, 97511: 1.0, 97543: 6.0, 99284: 8.0, 99289: 2.0, 99632: 1.0}), SparseVector(100000, {92: 6.4136, 1028: 5.2494, 1792: 3.4724, 2260: 12.4635, 3148: 7.7736, 3639: 2.2335, 4022: 4.6358, 4489: 0.9934, 4494: 5.3902, 5356: 4.6728, 5499: 4.2255, 5684: 2.3965, 6842: 2.4171, 8395: 17.1391, 9540: 5.2137, 12646: 19.9745, 14390: 2.9209, 14804: 1.3456, 16470: 3.439, 16677: 74.3296, 18711: 15.9391, 19408: 1.5489, 21134: 7.3948, 21181: 9.6825, 21299: 6.2984, 23779: 3.7163, 24392: 6.092, 24745: 8.4347, 25015: 5.6044, 26313: 1.8122, 29735: 3.3936, 30966: 1.841, 33562: 2.723, 35146: 4.5693, 35788: 6.4849, 39064: 7.0141, 40296: 7.0076, 41670: 6.3463, 41880: 5.2563, 43350: 1.4963, 44554: 5.1003, 44954: 3.132, 46834: 4.1917, 47342: 60.7082, 47873: 13.0282, 49392: 3.1744, 50163: 24.984, 52548: 7.9185, 52620: 9.3668, 52887: 2.4777, 54187: 9.4195, 54609: 11.2003, 54911: 2.5006, 54922: 3.5152, 56186: 5.0586, 56206: 4.7472, 56693: 5.7246, 57527: 5.1876, 57833: 22.7163, 62301: 2.6139, 62536: 22.9167, 62740: 3.7036, 62784: 2.5883, 63967: 5.6119, 64818: 19.6968, 66461: 9.2524, 67336: 4.6757, 67566: 16.0766, 68938: 7.6049, 69143: 5.0957, 69887: 7.9758, 70103: 7.782, 70787: 10.7463, 71865: 18.9515, 72059: 2.0861, 73764: 9.36, 74333: 2.9032, 74595: 2.8949, 74645: 6.7324, 75127: 5.8357, 75409: 3.0839, 76338: 4.8112, 78150: 38.4461, 78191: 4.2422, 79908: 3.6422, 79960: 6.7226, 83609: 3.1627, 85279: 9.0925, 86168: 2.7892, 86756: 2.9575, 87600: 5.882, 90697: 3.4719, 91139: 4.3715, 92173: 2.3201, 93372: 0.0002, 94019: 1.0285, 95420: 4.7296, 95958: 5.7088, 97511: 3.1878, 97543: 30.4654, 99284: 43.7384, 99289: 18.4053, 99632: 1.252}), 882.1228829339461)\n",
      "('10021369', ['identification', 'apc2', 'homologue', 'adenomatou', 'dis_polyposis_coli_dis', 'tumour', 'suppressor', '', 'adenomatou', 'dis_polyposis_coli_dis', 'dis_apc_dis', 'tumour-suppressor', 'protein', 'control', 'wnt', 'signal', 'pathway', 'form', 'complex', 'glycogen', 'synthase', 'kinase', '3beta', 'gsk-3beta', 'axin-conductin', 'gene_betacatenin_gene', '', 'complex', 'formation', 'induce', 'rapid', 'degradation', 'gene_betacatenin_gene', '', 'dis_colon_carcinoma_dis', 'cell', 'loss', 'dis_apc_dis', 'lead', 'accumulation', 'gene_betacatenin_gene', 'nucleus', 'bind', 'activate', 'gene_tcf_4_gene', 'transcription', 'factor', 'reviewed', '1', '2', '', 'here', 'report', 'identification', 'genomic', 'structure', 'dis_apc_dis', 'homologue', '', 'mammalian', 'apc2', 'close', 'resemble', 'dis_apc_dis', 'overall', 'domain', 'structure', 'functional', 'analyse', 'show', 'contain', 'two', 'samp', 'domain', 'both', 'require', 'binding', 'gene_conductin_gene', '', 'dis_apc_dis', 'apc2', 'regulate', 'formation', 'active', 'betacatenin-tcf', 'complexes', 'demonstrate', 'use', 'transient', 'transcriptional', 'activation', 'assay', 'apc____', 'dis_colon_carcinoma_dis', 'cell', '', 'human', 'apc2', 'map', 'chromosome', '19p13', '3', '', 'dis_apc_dis', 'apc2', 'therefore', 'comparable', 'function', 'development', 'dis_cancer_dis'], SparseVector(100000, {92: 1.0, 539: 1.0, 615: 1.0, 1472: 1.0, 2260: 2.0, 4022: 1.0, 4489: 1.0, 4646: 1.0, 4744: 1.0, 5356: 1.0, 6352: 1.0, 9676: 1.0, 10173: 2.0, 14390: 1.0, 15663: 1.0, 16470: 1.0, 18711: 1.0, 19408: 1.0, 21873: 2.0, 21888: 1.0, 22666: 1.0, 22800: 1.0, 25009: 2.0, 25412: 5.0, 26150: 1.0, 26313: 1.0, 26581: 1.0, 26873: 1.0, 29343: 1.0, 30951: 1.0, 34110: 1.0, 34347: 1.0, 35569: 1.0, 35621: 1.0, 37046: 1.0, 38188: 1.0, 43984: 1.0, 44863: 1.0, 45329: 1.0, 46202: 1.0, 50525: 1.0, 51032: 1.0, 52893: 1.0, 52961: 1.0, 53874: 1.0, 54187: 1.0, 57356: 1.0, 58396: 1.0, 61135: 1.0, 62301: 1.0, 62633: 1.0, 67989: 1.0, 68477: 1.0, 69143: 1.0, 69887: 1.0, 71185: 1.0, 73519: 2.0, 73542: 1.0, 75968: 1.0, 76800: 1.0, 76865: 2.0, 78150: 1.0, 78586: 1.0, 83210: 2.0, 83392: 2.0, 83918: 2.0, 86270: 1.0, 86418: 1.0, 87106: 1.0, 88337: 1.0, 88428: 1.0, 88709: 1.0, 89713: 1.0, 90247: 2.0, 91139: 1.0, 91870: 3.0, 93372: 8.0, 94019: 1.0, 94213: 1.0, 96195: 6.0, 98050: 1.0, 99589: 1.0}), SparseVector(100000, {92: 1.2827, 539: 3.9411, 615: 2.5939, 1472: 6.5734, 2260: 6.2318, 4022: 2.3179, 4489: 0.9934, 4646: 6.494, 4744: 1.3057, 5356: 2.3364, 6352: 5.867, 9676: 2.9846, 10173: 6.1166, 14390: 1.4604, 15663: 5.571, 16470: 3.439, 18711: 2.6565, 19408: 1.5489, 21873: 10.2727, 21888: 3.7742, 22666: 4.7707, 22800: 3.4674, 25009: 5.2993, 25412: 48.7152, 26150: 2.6631, 26313: 1.8122, 26581: 5.7041, 26873: 1.7996, 29343: 2.3963, 30951: 3.9056, 34110: 8.4169, 34347: 3.6856, 35569: 8.5956, 35621: 2.442, 37046: 2.9471, 38188: 7.6615, 43984: 8.5799, 44863: 1.3048, 45329: 2.8183, 46202: 4.1143, 50525: 5.5554, 51032: 3.9016, 52893: 8.8004, 52961: 2.4265, 53874: 1.4767, 54187: 3.1398, 57356: 2.1078, 58396: 3.1887, 61135: 2.4905, 62301: 2.6139, 62633: 1.8025, 67989: 1.3828, 68477: 1.8564, 69143: 2.5478, 69887: 3.9879, 71185: 2.4394, 73519: 15.5333, 73542: 8.0785, 75968: 3.8909, 76800: 2.4227, 76865: 5.6854, 78150: 2.7461, 78586: 2.4922, 83210: 1.7949, 83392: 12.0785, 83918: 6.7171, 86270: 7.8115, 86418: 1.6112, 87106: 3.0295, 88337: 2.5468, 88428: 9.4679, 88709: 9.4554, 89713: 3.5724, 90247: 11.9291, 91139: 2.1858, 91870: 26.3434, 93372: 0.0001, 94019: 1.0285, 94213: 4.3366, 96195: 33.3644, 98050: 1.4222, 99589: 3.4119}), 441.5352892933934)\n",
      "('10021376', ['intracellular', 'signalling', 'pdk1--a', 'kinase', 'hub', 'things', '', 'gene_phosphoinositide_dependent_kinase_1_gene', 'pdk1', 'hub', 'many', 'signal', 'pathway', 'activate', 'pkb', 'dis_pkc_dis', 'isoenzyme', 'well', 'p70', 's6', 'kinase', 'perhaps', 'pka', '', 'pdk1', 'action', 'determine', 'colocalization', 'substrate', 'target', 'site', 'availability', 'feature', 'enable', 'operate', 'both', 'rest', 'stimulate', 'cell'], SparseVector(100000, {692: 1.0, 4022: 1.0, 6532: 1.0, 8478: 1.0, 10157: 1.0, 18280: 1.0, 18711: 1.0, 25891: 1.0, 26278: 1.0, 26697: 1.0, 29880: 1.0, 36675: 1.0, 42849: 1.0, 44863: 1.0, 44904: 1.0, 50887: 1.0, 52614: 1.0, 55100: 1.0, 55188: 1.0, 61602: 2.0, 62708: 1.0, 65446: 1.0, 69739: 2.0, 71185: 1.0, 74333: 1.0, 78150: 2.0, 80599: 1.0, 80736: 1.0, 83210: 1.0, 86961: 1.0, 89840: 1.0, 92080: 1.0, 93372: 2.0, 96219: 1.0, 96553: 1.0}), SparseVector(100000, {692: 5.8505, 4022: 2.3179, 6532: 4.9115, 8478: 5.2386, 10157: 1.8594, 18280: 4.515, 18711: 2.6565, 25891: 2.6273, 26278: 7.5759, 26697: 3.3891, 29880: 6.1059, 36675: 3.7461, 42849: 6.1276, 44863: 1.3048, 44904: 8.3321, 50887: 3.7795, 52614: 6.8435, 55100: 8.8201, 55188: 2.0795, 61602: 14.5246, 62708: 4.438, 65446: 1.7811, 69739: 15.8586, 71185: 2.4394, 74333: 2.9032, 78150: 5.4923, 80599: 10.8929, 80736: 2.8984, 83210: 0.8975, 86961: 5.4075, 89840: 3.0073, 92080: 2.339, 93372: 0.0, 96219: 5.1576, 96553: 7.513}), 173.63118610789914)\n",
      "('10021381', ['cell-mediated', 'immunity', 'deal', 'direct', 'blow', 'pathogen', '', 'cytotoxic', 't', 'lymphocyte', 'essential', 'defence', 'against', 'dis_viral_infection_dis', '', 'recent', 'datum', 'demonstrate', 'direct', 'killing', 'intracellular', 'bacterium', 'gene_granulysin_gene', 'protein', 'release', 'granule', 'cytotoxic', 't', 'lymphocyte', 'emphasize', 'contribution', 'lymphocyte', 'dis_control_tuberculosis_dis'], SparseVector(100000, {92: 1.0, 6842: 1.0, 15690: 1.0, 19301: 1.0, 24342: 1.0, 25011: 1.0, 26697: 1.0, 26873: 1.0, 36283: 1.0, 42015: 1.0, 51271: 1.0, 55918: 1.0, 59057: 1.0, 63910: 1.0, 64178: 1.0, 67713: 1.0, 70371: 1.0, 71094: 3.0, 71433: 1.0, 71681: 2.0, 74852: 2.0, 85205: 1.0, 85776: 1.0, 86371: 1.0, 87777: 2.0, 91439: 1.0, 93372: 2.0}), SparseVector(100000, {92: 1.2827, 6842: 2.4171, 15690: 1.887, 19301: 5.0426, 24342: 2.6339, 25011: 9.6785, 26697: 3.3891, 26873: 1.7996, 36283: 4.9426, 42015: 3.1899, 51271: 4.1033, 55918: 3.745, 59057: 5.5886, 63910: 5.0067, 64178: 5.1498, 67713: 6.3827, 70371: 2.995, 71094: 10.4373, 71433: 5.8438, 71681: 8.288, 74852: 5.0489, 85205: 4.6247, 85776: 5.707, 86371: 6.1544, 87777: 5.9907, 91439: 8.6444, 93372: 0.0}), 129.97355457089327)\n",
      "('10021386', ['transformation', 'mediate', 'rhoa', 'require', 'activity', 'gene_rock_gene', 'kinase', '', 'ras-related', 'gtpase', 'rhoa', 'control', 'signal', 'process', 'require', 'cytoskeletal', 'reorganisation', 'transcriptional', 'regulation', 'transformation', '', 'ability', 'rhoa', 'mutant', 'transform', 'cell', 'correlate', 'transcription', 'ability', 'bind', 'gene_rock_i_gene', 'effector', 'kinase', 'involve', 'cytoskeletal', 'reorganisation', '', 'use', 'recent', 'develop', 'specific', 'gene_rock_gene', 'inhibitor', 'y-27632', 'gene_rock_gene', 'truncation', 'mutant', 'investigate', 'role', 'gene_rock_gene', 'kinase', 'transcriptional', 'activation', 'transformation', '', 'nih3t3', 'cell', 'y-27632', 'prevent', 'activation', 'gene_serum_response_factor_gene', 'transcription', 'c-fos', 'cell', 'cycle', 're-entry', 'following', 'serum', 'stimulation', '', 'repeated', 'treatment', 'nih3t3', 'cell', 'y-27632', 'substantial', 'disrupt', 'actin', 'fibre', 'network', 'affect', 'growth', 'rate', '', 'y-27632', 'block', 'focus', 'formation', 'rhoa', 'guanine-nucleotide', 'exchange', 'factor', 'dbl', 'gene_mnet1_gene', '', 'affect', 'growth', 'rate', 'cell', 'transform', 'dbl', 'gene_mnet1_gene', 'restore', 'normal', 'growth', 'control', 'confluence', 'prevent', 'growth', 'soft', 'agar', '', 'y-27632', 'significant', 'inhibit', 'focus', 'formation', 'ras', 'effect', 'establishment', 'maintenance', 'transformation', 'src', '', 'furthermore', 'significant', 'inhibit', 'anchorage-independent', 'growth', 'two', 'out', 'four', 'dis_colorectal_tumour_dis', 'cell', 'line', '', 'consistent', 'data', 'truncate', 'gene_rock_gene', 'derivative', 'exhibit', 'weak', 'ability', 'cooperate', 'activate', 'raf', 'focus', 'formation', 'assay', '', 'gene_rock_gene', 'signal', 'require', 'both', 'establishment', 'maintenance', 'transformation', 'constitutive', 'activation', 'rhoa', 'contribute', 'ras-transformed', 'phenotype', '', 'observation', 'provide', 'potential', 'explanation', 'requirement', 'gene_rho_gene', 'ras-mediated', 'transformation', '', 'moreover', 'inhibition', 'gene_rock_gene', 'kinase', 'therapeutic', 'use'], SparseVector(100000, {293: 5.0, 3029: 1.0, 4489: 2.0, 6500: 1.0, 6842: 1.0, 9288: 1.0, 9581: 1.0, 12181: 1.0, 12807: 1.0, 13970: 1.0, 13988: 1.0, 14099: 1.0, 14390: 1.0, 18711: 1.0, 18896: 1.0, 19130: 1.0, 19408: 1.0, 21022: 1.0, 21695: 1.0, 26632: 2.0, 27167: 1.0, 27649: 1.0, 28397: 1.0, 28403: 2.0, 29343: 1.0, 29735: 1.0, 31625: 5.0, 33562: 1.0, 33892: 1.0, 35316: 1.0, 35329: 1.0, 35936: 1.0, 37046: 2.0, 37800: 1.0, 38568: 6.0, 38673: 1.0, 38758: 2.0, 43350: 1.0, 43654: 1.0, 44116: 1.0, 44471: 2.0, 44863: 1.0, 44954: 1.0, 46074: 1.0, 46639: 1.0, 47209: 2.0, 47640: 2.0, 48110: 1.0, 48942: 1.0, 49392: 2.0, 49414: 1.0, 52093: 1.0, 53664: 1.0, 53874: 2.0, 54187: 1.0, 55140: 1.0, 55503: 1.0, 56063: 2.0, 56186: 1.0, 56793: 1.0, 56839: 2.0, 57704: 1.0, 59278: 1.0, 59833: 2.0, 61182: 1.0, 61243: 1.0, 63744: 1.0, 63892: 1.0, 63908: 1.0, 64279: 1.0, 66581: 1.0, 67170: 1.0, 67658: 1.0, 68996: 2.0, 70720: 1.0, 71185: 2.0, 72059: 1.0, 72190: 1.0, 72616: 1.0, 72962: 1.0, 74131: 2.0, 75577: 1.0, 76865: 3.0, 77158: 1.0, 78150: 4.0, 78518: 1.0, 78586: 3.0, 78637: 1.0, 83210: 6.0, 83227: 1.0, 83690: 3.0, 84818: 1.0, 85399: 7.0, 85639: 1.0, 85863: 1.0, 87155: 2.0, 88918: 1.0, 89713: 2.0, 90206: 1.0, 90253: 2.0, 90802: 5.0, 91139: 3.0, 92442: 1.0, 93372: 13.0, 94753: 3.0, 97511: 1.0, 99091: 1.0, 99638: 1.0}), SparseVector(100000, {293: 37.5562, 3029: 5.9382, 4489: 1.9868, 6500: 4.1649, 6842: 2.4171, 9288: 2.1899, 9581: 8.7134, 12181: 8.5391, 12807: 2.3662, 13970: 2.9566, 13988: 5.1375, 14099: 5.1322, 14390: 1.4604, 18711: 2.6565, 18896: 5.2157, 19130: 2.6911, 19408: 1.5489, 21022: 2.61, 21695: 3.5874, 26632: 16.915, 27167: 5.781, 27649: 1.779, 28397: 6.0937, 28403: 6.0089, 29343: 2.3963, 29735: 3.3936, 31625: 33.4139, 33562: 2.723, 33892: 4.6037, 35316: 3.8987, 35329: 4.1479, 35936: 2.9229, 37046: 5.8942, 37800: 4.4598, 38568: 26.4798, 38673: 7.1016, 38758: 10.626, 43350: 1.4963, 43654: 3.0657, 44116: 6.0054, 44471: 16.3981, 44863: 1.3048, 44954: 3.132, 46074: 4.3585, 46639: 2.3048, 47209: 4.5941, 47640: 10.7071, 48110: 1.57, 48942: 2.6551, 49392: 6.3489, 49414: 2.0069, 52093: 4.5593, 53664: 2.6082, 53874: 2.9535, 54187: 3.1398, 55140: 4.1339, 55503: 1.8061, 56063: 16.5003, 56186: 5.0586, 56793: 1.2726, 56839: 13.4583, 57704: 2.5603, 59278: 3.2981, 59833: 8.2475, 61182: 2.3633, 61243: 2.5476, 63744: 3.0832, 63892: 8.2729, 63908: 9.9456, 64279: 4.4722, 66581: 2.6224, 67170: 8.4124, 67658: 6.0153, 68996: 7.9209, 70720: 2.0876, 71185: 4.8788, 72059: 2.0861, 72190: 2.1897, 72616: 2.4049, 72962: 4.1981, 74131: 4.5988, 75577: 8.1369, 76865: 8.5281, 77158: 2.3607, 78150: 10.9846, 78518: 1.4341, 78586: 7.4767, 78637: 9.7103, 83210: 5.3847, 83227: 5.83, 83690: 10.5046, 84818: 7.5495, 85399: 66.6393, 85639: 8.408, 85863: 5.7345, 87155: 2.1128, 88918: 5.1461, 89713: 7.1448, 90206: 6.1394, 90253: 4.3919, 90802: 10.7175, 91139: 6.5573, 92442: 3.0537, 93372: 0.0002, 94753: 9.1996, 97511: 3.1878, 99091: 3.6814, 99638: 4.4707}), 693.6359594457567)\n"
     ]
    },
    {
     "name": "stderr",
     "output_type": "stream",
     "text": []
    }
   ],
   "source": [
    "res = tfidf.rdd.map(lambda x : (x.documentID,x.words,x.tf,x.idf,(None if x.idf is None else x.idf.values.sum())))\n",
    "\n",
    "for r in res.take(10):\n",
    "    print(r)\n"
   ]
  },
  {
   "cell_type": "code",
   "execution_count": null,
   "metadata": {},
   "outputs": [],
   "source": []
  },
  {
   "cell_type": "code",
   "execution_count": null,
   "metadata": {},
   "outputs": [],
   "source": []
  }
 ],
 "metadata": {
  "interpreter": {
   "hash": "84e8a609266cab694dfe0beee4d77de451aae0e6ab141fba1b791c26af2dd1ec"
  },
  "kernelspec": {
   "display_name": "Python 3.7.11 64-bit ('big_data': conda)",
   "language": "python",
   "name": "python3"
  },
  "language_info": {
   "codemirror_mode": {
    "name": "ipython",
    "version": 3
   },
   "file_extension": ".py",
   "mimetype": "text/x-python",
   "name": "python",
   "nbconvert_exporter": "python",
   "pygments_lexer": "ipython3",
   "version": "3.7.11"
  },
  "orig_nbformat": 4
 },
 "nbformat": 4,
 "nbformat_minor": 2
}
